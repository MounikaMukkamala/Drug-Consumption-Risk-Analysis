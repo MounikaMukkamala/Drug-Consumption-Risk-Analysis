{
 "cells": [
  {
   "cell_type": "code",
   "execution_count": 1,
   "metadata": {},
   "outputs": [],
   "source": [
    "import pandas as pd\n",
    "df=pd.read_csv(\"Desktop\\processed_data.csv\")"
   ]
  },
  {
   "cell_type": "code",
   "execution_count": 2,
   "metadata": {},
   "outputs": [
    {
     "data": {
      "text/html": [
       "<div>\n",
       "<style scoped>\n",
       "    .dataframe tbody tr th:only-of-type {\n",
       "        vertical-align: middle;\n",
       "    }\n",
       "\n",
       "    .dataframe tbody tr th {\n",
       "        vertical-align: top;\n",
       "    }\n",
       "\n",
       "    .dataframe thead th {\n",
       "        text-align: right;\n",
       "    }\n",
       "</style>\n",
       "<table border=\"1\" class=\"dataframe\">\n",
       "  <thead>\n",
       "    <tr style=\"text-align: right;\">\n",
       "      <th></th>\n",
       "      <th>Unnamed: 0</th>\n",
       "      <th>Age</th>\n",
       "      <th>Gender</th>\n",
       "      <th>Education</th>\n",
       "      <th>Country</th>\n",
       "      <th>Ethnicity</th>\n",
       "      <th>Nscore</th>\n",
       "      <th>Escore</th>\n",
       "      <th>Oscore</th>\n",
       "      <th>Ascore</th>\n",
       "      <th>...</th>\n",
       "      <th>Ecstasy</th>\n",
       "      <th>Heroin</th>\n",
       "      <th>Ketamine</th>\n",
       "      <th>Legalh</th>\n",
       "      <th>LSD</th>\n",
       "      <th>Meth</th>\n",
       "      <th>Mushrooms</th>\n",
       "      <th>Nicotine</th>\n",
       "      <th>Semer</th>\n",
       "      <th>VSA</th>\n",
       "    </tr>\n",
       "  </thead>\n",
       "  <tbody>\n",
       "    <tr>\n",
       "      <td>0</td>\n",
       "      <td>1</td>\n",
       "      <td>35_44</td>\n",
       "      <td>Female</td>\n",
       "      <td>ProfessionalCert</td>\n",
       "      <td>UK</td>\n",
       "      <td>WhiteAsian</td>\n",
       "      <td>0.31287</td>\n",
       "      <td>-0.57545</td>\n",
       "      <td>-0.58331</td>\n",
       "      <td>-0.91699</td>\n",
       "      <td>...</td>\n",
       "      <td>CL0</td>\n",
       "      <td>CL0</td>\n",
       "      <td>CL0</td>\n",
       "      <td>CL0</td>\n",
       "      <td>CL0</td>\n",
       "      <td>CL0</td>\n",
       "      <td>CL0</td>\n",
       "      <td>CL2</td>\n",
       "      <td>CL0</td>\n",
       "      <td>CL0</td>\n",
       "    </tr>\n",
       "    <tr>\n",
       "      <td>1</td>\n",
       "      <td>2</td>\n",
       "      <td>25_34</td>\n",
       "      <td>Male</td>\n",
       "      <td>Doctorate</td>\n",
       "      <td>UK</td>\n",
       "      <td>White</td>\n",
       "      <td>-0.67825</td>\n",
       "      <td>1.93886</td>\n",
       "      <td>1.43533</td>\n",
       "      <td>0.76096</td>\n",
       "      <td>...</td>\n",
       "      <td>CL4</td>\n",
       "      <td>CL0</td>\n",
       "      <td>CL2</td>\n",
       "      <td>CL0</td>\n",
       "      <td>CL2</td>\n",
       "      <td>CL3</td>\n",
       "      <td>CL0</td>\n",
       "      <td>CL4</td>\n",
       "      <td>CL0</td>\n",
       "      <td>CL0</td>\n",
       "    </tr>\n",
       "  </tbody>\n",
       "</table>\n",
       "<p>2 rows × 32 columns</p>\n",
       "</div>"
      ],
      "text/plain": [
       "   Unnamed: 0    Age  Gender         Education Country   Ethnicity   Nscore  \\\n",
       "0           1  35_44  Female  ProfessionalCert      UK  WhiteAsian  0.31287   \n",
       "1           2  25_34    Male         Doctorate      UK       White -0.67825   \n",
       "\n",
       "    Escore   Oscore   Ascore  ...  Ecstasy  Heroin  Ketamine Legalh  LSD Meth  \\\n",
       "0 -0.57545 -0.58331 -0.91699  ...      CL0     CL0       CL0    CL0  CL0  CL0   \n",
       "1  1.93886  1.43533  0.76096  ...      CL4     CL0       CL2    CL0  CL2  CL3   \n",
       "\n",
       "  Mushrooms Nicotine Semer  VSA  \n",
       "0       CL0      CL2   CL0  CL0  \n",
       "1       CL0      CL4   CL0  CL0  \n",
       "\n",
       "[2 rows x 32 columns]"
      ]
     },
     "execution_count": 2,
     "metadata": {},
     "output_type": "execute_result"
    }
   ],
   "source": [
    "df.head(2)"
   ]
  },
  {
   "cell_type": "code",
   "execution_count": 3,
   "metadata": {},
   "outputs": [
    {
     "name": "stdout",
     "output_type": "stream",
     "text": [
      "[5 5 6 ... 4 5 4]\n"
     ]
    }
   ],
   "source": [
    "from sklearn import preprocessing\n",
    "le = preprocessing.LabelEncoder()\n",
    "Alcohol_encoded=le.fit_transform(df.Alcohol)\n",
    "print(Alcohol_encoded)"
   ]
  },
  {
   "cell_type": "code",
   "execution_count": 4,
   "metadata": {},
   "outputs": [],
   "source": [
    "x_data=df.drop(df.columns[[0,1,2,3,4,5,13,14,15,16,17,18,19,20,21,22,23,24,25,26,27,28,29,30,31]],axis=1)"
   ]
  },
  {
   "cell_type": "code",
   "execution_count": 6,
   "metadata": {},
   "outputs": [
    {
     "data": {
      "text/html": [
       "<div>\n",
       "<style scoped>\n",
       "    .dataframe tbody tr th:only-of-type {\n",
       "        vertical-align: middle;\n",
       "    }\n",
       "\n",
       "    .dataframe tbody tr th {\n",
       "        vertical-align: top;\n",
       "    }\n",
       "\n",
       "    .dataframe thead th {\n",
       "        text-align: right;\n",
       "    }\n",
       "</style>\n",
       "<table border=\"1\" class=\"dataframe\">\n",
       "  <thead>\n",
       "    <tr style=\"text-align: right;\">\n",
       "      <th></th>\n",
       "      <th>Nscore</th>\n",
       "      <th>Escore</th>\n",
       "      <th>Oscore</th>\n",
       "      <th>Ascore</th>\n",
       "      <th>Cscore</th>\n",
       "      <th>Impulsive</th>\n",
       "      <th>SS</th>\n",
       "    </tr>\n",
       "  </thead>\n",
       "  <tbody>\n",
       "    <tr>\n",
       "      <td>0</td>\n",
       "      <td>0.31287</td>\n",
       "      <td>-0.57545</td>\n",
       "      <td>-0.58331</td>\n",
       "      <td>-0.91699</td>\n",
       "      <td>-0.00665</td>\n",
       "      <td>-0.21712</td>\n",
       "      <td>-1.18084</td>\n",
       "    </tr>\n",
       "    <tr>\n",
       "      <td>1</td>\n",
       "      <td>-0.67825</td>\n",
       "      <td>1.93886</td>\n",
       "      <td>1.43533</td>\n",
       "      <td>0.76096</td>\n",
       "      <td>-0.14277</td>\n",
       "      <td>-0.71126</td>\n",
       "      <td>-0.21575</td>\n",
       "    </tr>\n",
       "    <tr>\n",
       "      <td>2</td>\n",
       "      <td>-0.46725</td>\n",
       "      <td>0.80523</td>\n",
       "      <td>-0.84732</td>\n",
       "      <td>-1.62090</td>\n",
       "      <td>-1.01450</td>\n",
       "      <td>-1.37983</td>\n",
       "      <td>0.40148</td>\n",
       "    </tr>\n",
       "    <tr>\n",
       "      <td>3</td>\n",
       "      <td>-0.14882</td>\n",
       "      <td>-0.80615</td>\n",
       "      <td>-0.01928</td>\n",
       "      <td>0.59042</td>\n",
       "      <td>0.58489</td>\n",
       "      <td>-1.37983</td>\n",
       "      <td>-1.18084</td>\n",
       "    </tr>\n",
       "    <tr>\n",
       "      <td>4</td>\n",
       "      <td>0.73545</td>\n",
       "      <td>-1.63340</td>\n",
       "      <td>-0.45174</td>\n",
       "      <td>-0.30172</td>\n",
       "      <td>1.30612</td>\n",
       "      <td>-0.21712</td>\n",
       "      <td>-0.21575</td>\n",
       "    </tr>\n",
       "    <tr>\n",
       "      <td>...</td>\n",
       "      <td>...</td>\n",
       "      <td>...</td>\n",
       "      <td>...</td>\n",
       "      <td>...</td>\n",
       "      <td>...</td>\n",
       "      <td>...</td>\n",
       "      <td>...</td>\n",
       "    </tr>\n",
       "    <tr>\n",
       "      <td>1880</td>\n",
       "      <td>-1.19430</td>\n",
       "      <td>1.74091</td>\n",
       "      <td>1.88511</td>\n",
       "      <td>0.76096</td>\n",
       "      <td>-1.13788</td>\n",
       "      <td>0.88113</td>\n",
       "      <td>1.92173</td>\n",
       "    </tr>\n",
       "    <tr>\n",
       "      <td>1881</td>\n",
       "      <td>-0.24649</td>\n",
       "      <td>1.74091</td>\n",
       "      <td>0.58331</td>\n",
       "      <td>0.76096</td>\n",
       "      <td>-1.51840</td>\n",
       "      <td>0.88113</td>\n",
       "      <td>0.76540</td>\n",
       "    </tr>\n",
       "    <tr>\n",
       "      <td>1882</td>\n",
       "      <td>1.13281</td>\n",
       "      <td>-1.37639</td>\n",
       "      <td>-1.27553</td>\n",
       "      <td>-1.77200</td>\n",
       "      <td>-1.38502</td>\n",
       "      <td>0.52975</td>\n",
       "      <td>-0.52593</td>\n",
       "    </tr>\n",
       "    <tr>\n",
       "      <td>1883</td>\n",
       "      <td>0.91093</td>\n",
       "      <td>-1.92173</td>\n",
       "      <td>0.29338</td>\n",
       "      <td>-1.62090</td>\n",
       "      <td>-2.57309</td>\n",
       "      <td>1.29221</td>\n",
       "      <td>1.22470</td>\n",
       "    </tr>\n",
       "    <tr>\n",
       "      <td>1884</td>\n",
       "      <td>-0.46725</td>\n",
       "      <td>2.12700</td>\n",
       "      <td>1.65653</td>\n",
       "      <td>1.11406</td>\n",
       "      <td>0.41594</td>\n",
       "      <td>0.88113</td>\n",
       "      <td>1.22470</td>\n",
       "    </tr>\n",
       "  </tbody>\n",
       "</table>\n",
       "<p>1885 rows × 7 columns</p>\n",
       "</div>"
      ],
      "text/plain": [
       "       Nscore   Escore   Oscore   Ascore   Cscore  Impulsive       SS\n",
       "0     0.31287 -0.57545 -0.58331 -0.91699 -0.00665   -0.21712 -1.18084\n",
       "1    -0.67825  1.93886  1.43533  0.76096 -0.14277   -0.71126 -0.21575\n",
       "2    -0.46725  0.80523 -0.84732 -1.62090 -1.01450   -1.37983  0.40148\n",
       "3    -0.14882 -0.80615 -0.01928  0.59042  0.58489   -1.37983 -1.18084\n",
       "4     0.73545 -1.63340 -0.45174 -0.30172  1.30612   -0.21712 -0.21575\n",
       "...       ...      ...      ...      ...      ...        ...      ...\n",
       "1880 -1.19430  1.74091  1.88511  0.76096 -1.13788    0.88113  1.92173\n",
       "1881 -0.24649  1.74091  0.58331  0.76096 -1.51840    0.88113  0.76540\n",
       "1882  1.13281 -1.37639 -1.27553 -1.77200 -1.38502    0.52975 -0.52593\n",
       "1883  0.91093 -1.92173  0.29338 -1.62090 -2.57309    1.29221  1.22470\n",
       "1884 -0.46725  2.12700  1.65653  1.11406  0.41594    0.88113  1.22470\n",
       "\n",
       "[1885 rows x 7 columns]"
      ]
     },
     "execution_count": 6,
     "metadata": {},
     "output_type": "execute_result"
    }
   ],
   "source": [
    "x_data"
   ]
  },
  {
   "cell_type": "code",
   "execution_count": 5,
   "metadata": {},
   "outputs": [],
   "source": [
    "y_data=Alcohol_encoded"
   ]
  },
  {
   "cell_type": "code",
   "execution_count": 6,
   "metadata": {},
   "outputs": [
    {
     "data": {
      "text/plain": [
       "array([5, 5, 6, ..., 4, 5, 4])"
      ]
     },
     "execution_count": 6,
     "metadata": {},
     "output_type": "execute_result"
    }
   ],
   "source": [
    "y_data"
   ]
  },
  {
   "cell_type": "code",
   "execution_count": 7,
   "metadata": {},
   "outputs": [],
   "source": [
    "from sklearn.model_selection import train_test_split\n",
    "X_train, X_test, y_train, y_test = train_test_split(x_data, y_data, test_size=0.3,random_state=109)"
   ]
  },
  {
   "cell_type": "code",
   "execution_count": 8,
   "metadata": {},
   "outputs": [
    {
     "data": {
      "text/html": [
       "<div>\n",
       "<style scoped>\n",
       "    .dataframe tbody tr th:only-of-type {\n",
       "        vertical-align: middle;\n",
       "    }\n",
       "\n",
       "    .dataframe tbody tr th {\n",
       "        vertical-align: top;\n",
       "    }\n",
       "\n",
       "    .dataframe thead th {\n",
       "        text-align: right;\n",
       "    }\n",
       "</style>\n",
       "<table border=\"1\" class=\"dataframe\">\n",
       "  <thead>\n",
       "    <tr style=\"text-align: right;\">\n",
       "      <th></th>\n",
       "      <th>Nscore</th>\n",
       "      <th>Escore</th>\n",
       "      <th>Oscore</th>\n",
       "      <th>Ascore</th>\n",
       "      <th>Cscore</th>\n",
       "      <th>Impulsive</th>\n",
       "      <th>SS</th>\n",
       "    </tr>\n",
       "  </thead>\n",
       "  <tbody>\n",
       "    <tr>\n",
       "      <td>922</td>\n",
       "      <td>1.23461</td>\n",
       "      <td>-1.23177</td>\n",
       "      <td>-2.39883</td>\n",
       "      <td>-1.07533</td>\n",
       "      <td>-0.78155</td>\n",
       "      <td>1.29221</td>\n",
       "      <td>-0.21575</td>\n",
       "    </tr>\n",
       "    <tr>\n",
       "      <td>204</td>\n",
       "      <td>-0.14882</td>\n",
       "      <td>0.96248</td>\n",
       "      <td>1.24033</td>\n",
       "      <td>-0.01729</td>\n",
       "      <td>0.25953</td>\n",
       "      <td>-0.21712</td>\n",
       "      <td>0.40148</td>\n",
       "    </tr>\n",
       "    <tr>\n",
       "      <td>931</td>\n",
       "      <td>-0.24649</td>\n",
       "      <td>0.00332</td>\n",
       "      <td>1.06238</td>\n",
       "      <td>0.59042</td>\n",
       "      <td>2.04506</td>\n",
       "      <td>-0.71126</td>\n",
       "      <td>-0.52593</td>\n",
       "    </tr>\n",
       "    <tr>\n",
       "      <td>1805</td>\n",
       "      <td>0.41667</td>\n",
       "      <td>-0.80615</td>\n",
       "      <td>-0.58331</td>\n",
       "      <td>0.13136</td>\n",
       "      <td>-0.40581</td>\n",
       "      <td>-1.37983</td>\n",
       "      <td>-1.54858</td>\n",
       "    </tr>\n",
       "    <tr>\n",
       "      <td>1679</td>\n",
       "      <td>-0.46725</td>\n",
       "      <td>0.47617</td>\n",
       "      <td>-1.11902</td>\n",
       "      <td>-0.76096</td>\n",
       "      <td>-0.14277</td>\n",
       "      <td>-0.21712</td>\n",
       "      <td>0.76540</td>\n",
       "    </tr>\n",
       "    <tr>\n",
       "      <td>...</td>\n",
       "      <td>...</td>\n",
       "      <td>...</td>\n",
       "      <td>...</td>\n",
       "      <td>...</td>\n",
       "      <td>...</td>\n",
       "      <td>...</td>\n",
       "      <td>...</td>\n",
       "    </tr>\n",
       "    <tr>\n",
       "      <td>803</td>\n",
       "      <td>-0.24649</td>\n",
       "      <td>0.16767</td>\n",
       "      <td>-0.31776</td>\n",
       "      <td>-0.45321</td>\n",
       "      <td>-0.89891</td>\n",
       "      <td>1.29221</td>\n",
       "      <td>0.76540</td>\n",
       "    </tr>\n",
       "    <tr>\n",
       "      <td>54</td>\n",
       "      <td>0.04257</td>\n",
       "      <td>1.11406</td>\n",
       "      <td>-0.58331</td>\n",
       "      <td>-1.07533</td>\n",
       "      <td>-1.13788</td>\n",
       "      <td>1.29221</td>\n",
       "      <td>1.22470</td>\n",
       "    </tr>\n",
       "    <tr>\n",
       "      <td>1849</td>\n",
       "      <td>0.41667</td>\n",
       "      <td>0.96248</td>\n",
       "      <td>-0.17779</td>\n",
       "      <td>-0.45321</td>\n",
       "      <td>0.75830</td>\n",
       "      <td>0.19268</td>\n",
       "      <td>-0.21575</td>\n",
       "    </tr>\n",
       "    <tr>\n",
       "      <td>215</td>\n",
       "      <td>1.60383</td>\n",
       "      <td>-0.30033</td>\n",
       "      <td>-0.71727</td>\n",
       "      <td>1.11406</td>\n",
       "      <td>-0.40581</td>\n",
       "      <td>0.19268</td>\n",
       "      <td>0.07987</td>\n",
       "    </tr>\n",
       "    <tr>\n",
       "      <td>1266</td>\n",
       "      <td>-0.05188</td>\n",
       "      <td>-0.43999</td>\n",
       "      <td>-0.45174</td>\n",
       "      <td>1.81866</td>\n",
       "      <td>0.25953</td>\n",
       "      <td>-1.37983</td>\n",
       "      <td>-0.52593</td>\n",
       "    </tr>\n",
       "  </tbody>\n",
       "</table>\n",
       "<p>566 rows × 7 columns</p>\n",
       "</div>"
      ],
      "text/plain": [
       "       Nscore   Escore   Oscore   Ascore   Cscore  Impulsive       SS\n",
       "922   1.23461 -1.23177 -2.39883 -1.07533 -0.78155    1.29221 -0.21575\n",
       "204  -0.14882  0.96248  1.24033 -0.01729  0.25953   -0.21712  0.40148\n",
       "931  -0.24649  0.00332  1.06238  0.59042  2.04506   -0.71126 -0.52593\n",
       "1805  0.41667 -0.80615 -0.58331  0.13136 -0.40581   -1.37983 -1.54858\n",
       "1679 -0.46725  0.47617 -1.11902 -0.76096 -0.14277   -0.21712  0.76540\n",
       "...       ...      ...      ...      ...      ...        ...      ...\n",
       "803  -0.24649  0.16767 -0.31776 -0.45321 -0.89891    1.29221  0.76540\n",
       "54    0.04257  1.11406 -0.58331 -1.07533 -1.13788    1.29221  1.22470\n",
       "1849  0.41667  0.96248 -0.17779 -0.45321  0.75830    0.19268 -0.21575\n",
       "215   1.60383 -0.30033 -0.71727  1.11406 -0.40581    0.19268  0.07987\n",
       "1266 -0.05188 -0.43999 -0.45174  1.81866  0.25953   -1.37983 -0.52593\n",
       "\n",
       "[566 rows x 7 columns]"
      ]
     },
     "execution_count": 8,
     "metadata": {},
     "output_type": "execute_result"
    }
   ],
   "source": [
    "X_test"
   ]
  },
  {
   "cell_type": "code",
   "execution_count": 9,
   "metadata": {},
   "outputs": [
    {
     "data": {
      "text/plain": [
       "array([3, 5, 5, 4, 5, 5, 5, 4, 6, 5, 3, 5, 5, 5, 6, 5, 0, 5, 5, 5, 5, 3,\n",
       "       4, 6, 6, 5, 4, 5, 4, 5, 4, 6, 5, 5, 5, 2, 6, 5, 6, 5, 3, 6, 4, 6,\n",
       "       5, 6, 5, 5, 5, 6, 4, 5, 5, 2, 4, 6, 2, 5, 3, 4, 3, 6, 6, 5, 5, 6,\n",
       "       6, 5, 3, 4, 6, 3, 0, 3, 5, 3, 5, 3, 2, 4, 5, 6, 6, 3, 5, 5, 5, 6,\n",
       "       3, 5, 2, 5, 5, 4, 5, 3, 3, 5, 3, 4, 6, 5, 6, 5, 5, 5, 4, 4, 5, 5,\n",
       "       4, 6, 6, 5, 5, 5, 6, 6, 5, 6, 3, 5, 5, 5, 4, 5, 4, 5, 3, 5, 5, 5,\n",
       "       5, 5, 4, 5, 5, 5, 2, 6, 5, 0, 4, 6, 5, 5, 3, 3, 5, 6, 4, 4, 5, 6,\n",
       "       3, 5, 5, 5, 1, 6, 5, 5, 4, 5, 3, 1, 4, 6, 0, 3, 5, 1, 5, 5, 5, 5,\n",
       "       5, 5, 6, 6, 6, 3, 5, 6, 5, 3, 4, 6, 2, 5, 4, 5, 5, 5, 5, 5, 1, 5,\n",
       "       5, 5, 5, 4, 5, 6, 5, 5, 4, 3, 4, 6, 6, 5, 6, 6, 6, 5, 5, 6, 5, 3,\n",
       "       1, 6, 3, 3, 4, 5, 4, 5, 5, 3, 5, 5, 5, 5, 3, 5, 3, 3, 6, 5, 4, 5,\n",
       "       5, 5, 6, 4, 4, 6, 5, 6, 6, 5, 5, 3, 3, 5, 3, 6, 5, 5, 5, 5, 4, 6,\n",
       "       5, 6, 5, 6, 6, 5, 3, 5, 5, 6, 6, 5, 2, 5, 5, 6, 4, 6, 5, 6, 5, 5,\n",
       "       5, 3, 6, 1, 6, 4, 5, 6, 5, 3, 4, 3, 5, 6, 6, 3, 4, 4, 5, 5, 6, 3,\n",
       "       3, 6, 2, 6, 4, 4, 5, 5, 5, 3, 5, 5, 4, 2, 5, 5, 3, 2, 6, 5, 4, 6,\n",
       "       6, 6, 3, 5, 5, 5, 5, 6, 5, 3, 6, 5, 4, 4, 6, 5, 4, 4, 6, 5, 6, 5,\n",
       "       5, 5, 5, 5, 4, 3, 4, 5, 5, 6, 2, 6, 5, 4, 3, 5, 5, 6, 5, 5, 4, 5,\n",
       "       2, 5, 4, 6, 5, 6, 5, 5, 6, 6, 3, 6, 0, 6, 5, 3, 5, 2, 5, 3, 3, 6,\n",
       "       5, 6, 0, 5, 5, 6, 3, 6, 3, 6, 3, 5, 4, 5, 5, 6, 6, 6, 3, 5, 3, 0,\n",
       "       6, 6, 5, 5, 5, 6, 3, 4, 5, 5, 1, 6, 5, 3, 6, 4, 5, 0, 0, 6, 4, 6,\n",
       "       5, 3, 6, 5, 6, 6, 4, 4, 5, 3, 6, 4, 4, 5, 5, 6, 5, 5, 5, 5, 5, 6,\n",
       "       6, 5, 5, 5, 3, 5, 5, 6, 3, 5, 6, 5, 6, 4, 5, 6, 1, 6, 5, 5, 6, 4,\n",
       "       5, 6, 3, 5, 5, 4, 6, 5, 3, 6, 4, 5, 4, 3, 6, 0, 4, 0, 5, 3, 5, 5,\n",
       "       5, 4, 2, 2, 4, 3, 4, 5, 5, 5, 4, 6, 6, 5, 5, 5, 5, 5, 0, 6, 5, 2,\n",
       "       5, 6, 6, 4, 5, 6, 5, 4, 5, 5, 5, 6, 6, 6, 3, 6, 4, 3, 5, 4, 5, 4,\n",
       "       5, 6, 4, 5, 6, 4, 4, 4, 2, 5, 6, 2, 6, 6, 5, 5])"
      ]
     },
     "execution_count": 9,
     "metadata": {},
     "output_type": "execute_result"
    }
   ],
   "source": [
    "y_test"
   ]
  },
  {
   "cell_type": "code",
   "execution_count": 10,
   "metadata": {},
   "outputs": [],
   "source": [
    "from sklearn.naive_bayes import GaussianNB\n",
    "gnb = GaussianNB()\n",
    "gnb.fit(X_train, y_train)\n",
    "y_pred = gnb.predict(X_test)"
   ]
  },
  {
   "cell_type": "code",
   "execution_count": 11,
   "metadata": {},
   "outputs": [
    {
     "data": {
      "text/plain": [
       "array([3, 5, 5, 5, 5, 6, 5, 6, 5, 6, 5, 5, 5, 5, 6, 5, 4, 5, 5, 5, 5, 5,\n",
       "       5, 5, 5, 6, 5, 5, 6, 5, 6, 6, 5, 5, 5, 5, 5, 6, 5, 5, 5, 5, 5, 5,\n",
       "       5, 5, 6, 5, 6, 5, 5, 5, 5, 6, 6, 5, 5, 6, 6, 5, 5, 5, 5, 5, 6, 5,\n",
       "       5, 5, 5, 5, 5, 5, 5, 6, 5, 5, 5, 5, 5, 5, 5, 4, 5, 5, 5, 5, 5, 5,\n",
       "       5, 5, 5, 6, 5, 6, 5, 6, 5, 5, 5, 6, 5, 5, 5, 6, 5, 6, 5, 5, 5, 5,\n",
       "       5, 5, 5, 5, 6, 5, 5, 6, 5, 5, 5, 5, 6, 5, 5, 4, 5, 5, 5, 5, 5, 5,\n",
       "       5, 4, 5, 6, 6, 5, 5, 5, 5, 5, 5, 5, 5, 6, 5, 5, 5, 5, 3, 5, 5, 5,\n",
       "       5, 5, 6, 6, 5, 6, 6, 5, 5, 5, 6, 6, 5, 5, 5, 5, 5, 5, 5, 5, 5, 6,\n",
       "       5, 5, 5, 5, 5, 6, 6, 5, 5, 4, 5, 5, 5, 5, 5, 5, 5, 5, 5, 6, 5, 5,\n",
       "       5, 5, 5, 5, 5, 5, 5, 5, 5, 5, 5, 5, 5, 5, 5, 5, 5, 5, 5, 5, 5, 5,\n",
       "       6, 6, 5, 5, 5, 5, 5, 5, 6, 6, 6, 5, 5, 5, 5, 5, 6, 5, 6, 5, 5, 5,\n",
       "       5, 6, 5, 5, 5, 5, 5, 5, 5, 6, 5, 5, 5, 5, 5, 6, 5, 6, 5, 5, 6, 5,\n",
       "       5, 6, 5, 5, 5, 6, 6, 5, 6, 5, 5, 5, 6, 5, 5, 5, 5, 5, 6, 6, 5, 6,\n",
       "       5, 6, 5, 5, 5, 5, 5, 5, 5, 5, 5, 5, 5, 6, 5, 5, 5, 5, 6, 5, 5, 6,\n",
       "       6, 5, 6, 5, 5, 5, 5, 4, 5, 5, 5, 5, 6, 6, 5, 5, 5, 5, 6, 5, 5, 5,\n",
       "       5, 5, 5, 5, 5, 5, 5, 5, 6, 5, 5, 5, 5, 6, 5, 5, 5, 5, 5, 5, 5, 6,\n",
       "       5, 5, 5, 5, 6, 5, 5, 5, 5, 5, 5, 6, 5, 5, 5, 5, 5, 5, 6, 6, 5, 5,\n",
       "       5, 5, 5, 5, 6, 5, 5, 5, 5, 5, 5, 6, 5, 3, 5, 5, 6, 5, 5, 5, 6, 5,\n",
       "       5, 5, 5, 5, 5, 6, 5, 5, 5, 5, 5, 5, 6, 5, 6, 5, 5, 5, 5, 5, 6, 5,\n",
       "       5, 5, 5, 5, 5, 5, 5, 5, 5, 1, 5, 5, 5, 5, 5, 5, 6, 5, 5, 4, 5, 5,\n",
       "       5, 5, 5, 5, 6, 5, 5, 5, 5, 5, 5, 5, 6, 5, 5, 5, 5, 5, 5, 5, 5, 5,\n",
       "       5, 5, 5, 5, 6, 5, 5, 5, 5, 5, 5, 6, 5, 5, 5, 5, 5, 5, 6, 5, 5, 6,\n",
       "       5, 6, 5, 5, 5, 5, 5, 5, 5, 5, 5, 5, 4, 5, 5, 5, 6, 5, 5, 5, 6, 6,\n",
       "       6, 5, 5, 4, 5, 5, 5, 5, 6, 5, 5, 6, 6, 5, 5, 5, 5, 5, 5, 6, 5, 5,\n",
       "       5, 5, 5, 5, 5, 5, 5, 5, 5, 5, 5, 5, 5, 6, 5, 6, 5, 5, 5, 5, 5, 5,\n",
       "       5, 5, 5, 5, 5, 5, 5, 5, 5, 5, 5, 5, 5, 5, 5, 5])"
      ]
     },
     "execution_count": 11,
     "metadata": {},
     "output_type": "execute_result"
    }
   ],
   "source": [
    "y_pred"
   ]
  },
  {
   "cell_type": "code",
   "execution_count": 12,
   "metadata": {},
   "outputs": [
    {
     "name": "stdout",
     "output_type": "stream",
     "text": [
      "Accuracy: 0.37809187279151946\n"
     ]
    }
   ],
   "source": [
    "from sklearn import metrics\n",
    "\n",
    "# Model Accuracy, how often is the classifier correct?\n",
    "print(\"Accuracy:\",metrics.accuracy_score(y_test, y_pred))"
   ]
  },
  {
   "cell_type": "code",
   "execution_count": 13,
   "metadata": {},
   "outputs": [
    {
     "name": "stdout",
     "output_type": "stream",
     "text": [
      "X=[0.31287, -0.57545, -0.58331, -0.91699, -0.00665, -0.21712, -1.18084], Predicted=5\n"
     ]
    }
   ],
   "source": [
    "x_new=[[0.31287,-0.57545,-0.58331,-0.91699,-0.00665,-0.21712,-1.18084]]\n",
    "y_new= gnb.predict(x_new)\n",
    "print(\"X=%s, Predicted=%s\" % (x_new[0], y_new[0]))"
   ]
  },
  {
   "cell_type": "code",
   "execution_count": 14,
   "metadata": {},
   "outputs": [
    {
     "name": "stdout",
     "output_type": "stream",
     "text": [
      "[[  1   1]\n",
      " [  3   3]\n",
      " [  4   9]\n",
      " [  5 452]\n",
      " [  6 101]]\n"
     ]
    }
   ],
   "source": [
    "import numpy as np\n",
    "(unique,counts)=np.unique(y_pred,return_counts=True)\n",
    "frequencies = np.asarray((unique, counts)).T\n",
    "print(frequencies)\n",
    "    "
   ]
  },
  {
   "cell_type": "code",
   "execution_count": 15,
   "metadata": {},
   "outputs": [
    {
     "name": "stdout",
     "output_type": "stream",
     "text": [
      "[[  0  12]\n",
      " [  1   8]\n",
      " [  2  19]\n",
      " [  3  71]\n",
      " [  4  81]\n",
      " [  5 241]\n",
      " [  6 134]]\n"
     ]
    }
   ],
   "source": [
    "import numpy as np\n",
    "(unique,counts)=np.unique(y_test,return_counts=True)\n",
    "frequencies1 = np.asarray((unique, counts)).T\n",
    "print(frequencies1)"
   ]
  }
 ],
 "metadata": {
  "kernelspec": {
   "display_name": "Python 3",
   "language": "python",
   "name": "python3"
  },
  "language_info": {
   "codemirror_mode": {
    "name": "ipython",
    "version": 3
   },
   "file_extension": ".py",
   "mimetype": "text/x-python",
   "name": "python",
   "nbconvert_exporter": "python",
   "pygments_lexer": "ipython3",
   "version": "3.7.4"
  }
 },
 "nbformat": 4,
 "nbformat_minor": 2
}
